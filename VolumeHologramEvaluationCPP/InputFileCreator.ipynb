{
 "cells": [
  {
   "cell_type": "code",
   "execution_count": 1,
   "metadata": {},
   "outputs": [],
   "source": [
    "import numpy as np\n",
    "import matplotlib.pyplot as plt\n",
    "%matplotlib qt"
   ]
  },
  {
   "cell_type": "code",
   "execution_count": 2,
   "metadata": {},
   "outputs": [],
   "source": [
    "name_input = \"hoeInputvalues.dat\"\n",
    "name_results = \"hoeEvaluation.dat\"\n",
    "dim = 200\n",
    "\n",
    "index_variable = 0 # thetaDeg\n",
    "start_variable = -2.0\n",
    "end_variable = 2.0\n",
    "\n",
    "harmonic_from_evaluation = 1\n"
   ]
  },
  {
   "cell_type": "code",
   "execution_count": 3,
   "metadata": {},
   "outputs": [],
   "source": [
    "variable =  np.linspace(start_variable, end_variable, dim)\n",
    "\n",
    "input = np.zeros((dim, 14), np.double)\n",
    "input[:,0] = 0.0 # thetaDeg\n",
    "input[:,1] = 0.0 # phiDeg\n",
    "input[:,2] = 0.5 # lam\n",
    "input[:,3] = 0.5 # lamHoe\n",
    "input[:,4] = 48.0 #thetaDegRec1\n",
    "input[:,5] = 0.0 #phiDegRec1\n",
    "input[:,6] = 0.0 #thetaDegRec2\n",
    "input[:,7] = 0.0 #phiDegRec2\n",
    "input[:,8] = 100.0 #thickness\n",
    "input[:,9] = 1.5 #n\n",
    "input[:,10] = 0.01 #dn\n",
    "input[:,11] = 100.0 #dimZ\n",
    "input[:,12] = 1.0 # stepsPerCylce\n",
    "input[:,13] = 1.0 # addArLayer\n",
    "\n",
    "input[:,index_variable] = variable\n",
    "np.savetxt(name_input, input)"
   ]
  },
  {
   "cell_type": "code",
   "execution_count": 41,
   "metadata": {},
   "outputs": [
    {
     "data": {
      "text/plain": [
       "<matplotlib.legend.Legend at 0x1a32e867e50>"
      ]
     },
     "execution_count": 41,
     "metadata": {},
     "output_type": "execute_result"
    }
   ],
   "source": [
    "harmonic_to_show = 1\n",
    "count = 2*harmonic_from_evaluation+1\n",
    "\n",
    "i_rp = harmonic_from_evaluation+harmonic_to_show\n",
    "i_rs = i_rp + count\n",
    "i_ts = i_rs + count\n",
    "i_tp = i_ts + count\n",
    "\n",
    "\n",
    "results = np.loadtxt(name_results)\n",
    "\n",
    "fig = plt.figure(\"Results\")\n",
    "fig.clear()\n",
    "plt.plot(variable,results[:,i_rp], color=\"r\", label=\"Rp\")\n",
    "plt.plot(variable,results[:,i_rs], color=\"g\", label=\"Rs\")\n",
    "plt.plot(variable,results[:,i_ts], color=\"b\", label=\"Ts\")\n",
    "plt.plot(variable,results[:,i_tp], color=\"k\", label=\"Tp\")\n",
    "plt.legend()"
   ]
  }
 ],
 "metadata": {
  "kernelspec": {
   "display_name": "Python 3",
   "language": "python",
   "name": "python3"
  },
  "language_info": {
   "codemirror_mode": {
    "name": "ipython",
    "version": 3
   },
   "file_extension": ".py",
   "mimetype": "text/x-python",
   "name": "python",
   "nbconvert_exporter": "python",
   "pygments_lexer": "ipython3",
   "version": "3.11.7"
  }
 },
 "nbformat": 4,
 "nbformat_minor": 2
}
